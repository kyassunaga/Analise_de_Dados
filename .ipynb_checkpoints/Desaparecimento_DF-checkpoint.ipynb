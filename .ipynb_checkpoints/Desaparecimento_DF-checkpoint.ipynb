{
 "cells": [
  {
   "cell_type": "markdown",
   "metadata": {},
   "source": [
    "# Laboratório de Banco de Dados - Prof. Masanori<br/>\n",
    "Guilherme Pinto <br />\n",
    "Mauricio Kiyoshi Yassunaga <br />\n",
    "# Análise de Dados#\n",
    "\n",
    "## Desaparecimento de pessoas no DF - Localizados ...\n",
    "\n",
    "Acompanhamento das ocorrências de desaparecimento e localização de pessoas no DF. <br />\n",
    "Dados disponibilizados [aqui](http://dados.gov.br/dataset/por-regiao-administrativa).\n"
   ]
  },
  {
   "cell_type": "code",
   "execution_count": 1,
   "metadata": {},
   "outputs": [],
   "source": [
    "import pandas as pd\n",
    "import matplotlib.pyplot as plt"
   ]
  },
  {
   "cell_type": "code",
   "execution_count": 2,
   "metadata": {
    "scrolled": true
   },
   "outputs": [],
   "source": [
    "df_desaparecidos = pd.read_csv('./dados/desaparecimento-de-pessoas-por-rajandez-2017.csv', sep = ';', skiprows = 4, encoding='latin-1')\n",
    "df_desaparecidos_sexo = pd.read_csv('./dados/desaparecimento-de-pessoasidade-e-sexojandez-2017.csv', sep = ';', skiprows = 4, encoding='latin-1')\n",
    "df_localizados = pd.read_csv('./dados/desaparecimento-de-pessoaslocalizadosjandez-2017.csv', sep = ';', skiprows = 4, encoding='latin-1')"
   ]
  },
  {
   "cell_type": "code",
   "execution_count": 3,
   "metadata": {},
   "outputs": [
    {
     "data": {
      "text/html": [
       "<div>\n",
       "<style scoped>\n",
       "    .dataframe tbody tr th:only-of-type {\n",
       "        vertical-align: middle;\n",
       "    }\n",
       "\n",
       "    .dataframe tbody tr th {\n",
       "        vertical-align: top;\n",
       "    }\n",
       "\n",
       "    .dataframe thead th {\n",
       "        text-align: right;\n",
       "    }\n",
       "</style>\n",
       "<table border=\"1\" class=\"dataframe\">\n",
       "  <thead>\n",
       "    <tr style=\"text-align: right;\">\n",
       "      <th></th>\n",
       "      <th>RANKING 2017</th>\n",
       "      <th>REGIÃO ADMINISTRATIVA</th>\n",
       "      <th>2016</th>\n",
       "      <th>2017</th>\n",
       "      <th>VARIAÇÃO ABSOLUTA</th>\n",
       "      <th>PERCENTUAL DE PARTICIPAÇÃO - ANO 2017</th>\n",
       "    </tr>\n",
       "  </thead>\n",
       "  <tbody>\n",
       "    <tr>\n",
       "      <th>0</th>\n",
       "      <td>1ª</td>\n",
       "      <td>RA 09_CEILANDIA</td>\n",
       "      <td>475</td>\n",
       "      <td>415.0</td>\n",
       "      <td>-60.0</td>\n",
       "      <td>15,63%</td>\n",
       "    </tr>\n",
       "    <tr>\n",
       "      <th>1</th>\n",
       "      <td>2ª</td>\n",
       "      <td>RA 12_SAMAMBAIA</td>\n",
       "      <td>282</td>\n",
       "      <td>256.0</td>\n",
       "      <td>-26.0</td>\n",
       "      <td>9,64%</td>\n",
       "    </tr>\n",
       "    <tr>\n",
       "      <th>2</th>\n",
       "      <td>3ª</td>\n",
       "      <td>RA 03_TAGUATINGA</td>\n",
       "      <td>209</td>\n",
       "      <td>224.0</td>\n",
       "      <td>15.0</td>\n",
       "      <td>8,43%</td>\n",
       "    </tr>\n",
       "    <tr>\n",
       "      <th>3</th>\n",
       "      <td>4ª</td>\n",
       "      <td>RA 06_PLANALTINA</td>\n",
       "      <td>212</td>\n",
       "      <td>205.0</td>\n",
       "      <td>-7.0</td>\n",
       "      <td>7,72%</td>\n",
       "    </tr>\n",
       "    <tr>\n",
       "      <th>4</th>\n",
       "      <td>5ª</td>\n",
       "      <td>RA 01_BRASILIA</td>\n",
       "      <td>204</td>\n",
       "      <td>199.0</td>\n",
       "      <td>-5.0</td>\n",
       "      <td>7,49%</td>\n",
       "    </tr>\n",
       "    <tr>\n",
       "      <th>5</th>\n",
       "      <td>6ª</td>\n",
       "      <td>RA 02_GAMA</td>\n",
       "      <td>175</td>\n",
       "      <td>163.0</td>\n",
       "      <td>-12.0</td>\n",
       "      <td>6,14%</td>\n",
       "    </tr>\n",
       "    <tr>\n",
       "      <th>6</th>\n",
       "      <td>7ª</td>\n",
       "      <td>RA 15_RECANTO DAS EMAS</td>\n",
       "      <td>143</td>\n",
       "      <td>157.0</td>\n",
       "      <td>14.0</td>\n",
       "      <td>5,91%</td>\n",
       "    </tr>\n",
       "    <tr>\n",
       "      <th>7</th>\n",
       "      <td>8ª</td>\n",
       "      <td>RA 14_SAO SEBASTIAO</td>\n",
       "      <td>146</td>\n",
       "      <td>122.0</td>\n",
       "      <td>-24.0</td>\n",
       "      <td>4,59%</td>\n",
       "    </tr>\n",
       "    <tr>\n",
       "      <th>8</th>\n",
       "      <td>9ª</td>\n",
       "      <td>RA 13_SANTA MARIA</td>\n",
       "      <td>112</td>\n",
       "      <td>94.0</td>\n",
       "      <td>-18.0</td>\n",
       "      <td>3,54%</td>\n",
       "    </tr>\n",
       "    <tr>\n",
       "      <th>9</th>\n",
       "      <td>10ª</td>\n",
       "      <td>RA 10_GUARA</td>\n",
       "      <td>94</td>\n",
       "      <td>90.0</td>\n",
       "      <td>-4.0</td>\n",
       "      <td>3,39%</td>\n",
       "    </tr>\n",
       "  </tbody>\n",
       "</table>\n",
       "</div>"
      ],
      "text/plain": [
       "  RANKING 2017   REGIÃO ADMINISTRATIVA 2016   2017  VARIAÇÃO ABSOLUTA  \\\n",
       "0           1ª         RA 09_CEILANDIA  475  415.0              -60.0   \n",
       "1           2ª         RA 12_SAMAMBAIA  282  256.0              -26.0   \n",
       "2           3ª        RA 03_TAGUATINGA  209  224.0               15.0   \n",
       "3           4ª        RA 06_PLANALTINA  212  205.0               -7.0   \n",
       "4           5ª          RA 01_BRASILIA  204  199.0               -5.0   \n",
       "5           6ª              RA 02_GAMA  175  163.0              -12.0   \n",
       "6           7ª  RA 15_RECANTO DAS EMAS  143  157.0               14.0   \n",
       "7           8ª     RA 14_SAO SEBASTIAO  146  122.0              -24.0   \n",
       "8           9ª       RA 13_SANTA MARIA  112   94.0              -18.0   \n",
       "9          10ª             RA 10_GUARA   94   90.0               -4.0   \n",
       "\n",
       "  PERCENTUAL DE PARTICIPAÇÃO - ANO 2017  \n",
       "0                                15,63%  \n",
       "1                                 9,64%  \n",
       "2                                 8,43%  \n",
       "3                                 7,72%  \n",
       "4                                 7,49%  \n",
       "5                                 6,14%  \n",
       "6                                 5,91%  \n",
       "7                                 4,59%  \n",
       "8                                 3,54%  \n",
       "9                                 3,39%  "
      ]
     },
     "execution_count": 3,
     "metadata": {},
     "output_type": "execute_result"
    }
   ],
   "source": [
    "df_desaparecidos.head(10)"
   ]
  },
  {
   "cell_type": "markdown",
   "metadata": {},
   "source": [
    "O foco será somente nos dados de 2017, portando serão excluídas as colunas **2016** e **VARIAÇÃO ABSOLUTA**."
   ]
  },
  {
   "cell_type": "code",
   "execution_count": 4,
   "metadata": {},
   "outputs": [],
   "source": [
    "del(df_desaparecidos['2016'])"
   ]
  },
  {
   "cell_type": "code",
   "execution_count": 5,
   "metadata": {},
   "outputs": [],
   "source": [
    "del(df_desaparecidos['VARIAÇÃO ABSOLUTA'])"
   ]
  },
  {
   "cell_type": "code",
   "execution_count": 6,
   "metadata": {},
   "outputs": [
    {
     "data": {
      "text/html": [
       "<div>\n",
       "<style scoped>\n",
       "    .dataframe tbody tr th:only-of-type {\n",
       "        vertical-align: middle;\n",
       "    }\n",
       "\n",
       "    .dataframe tbody tr th {\n",
       "        vertical-align: top;\n",
       "    }\n",
       "\n",
       "    .dataframe thead th {\n",
       "        text-align: right;\n",
       "    }\n",
       "</style>\n",
       "<table border=\"1\" class=\"dataframe\">\n",
       "  <thead>\n",
       "    <tr style=\"text-align: right;\">\n",
       "      <th></th>\n",
       "      <th>RANKING 2017</th>\n",
       "      <th>REGIÃO ADMINISTRATIVA</th>\n",
       "      <th>2017</th>\n",
       "      <th>PERCENTUAL DE PARTICIPAÇÃO - ANO 2017</th>\n",
       "    </tr>\n",
       "  </thead>\n",
       "  <tbody>\n",
       "    <tr>\n",
       "      <th>0</th>\n",
       "      <td>1ª</td>\n",
       "      <td>RA 09_CEILANDIA</td>\n",
       "      <td>415.0</td>\n",
       "      <td>15,63%</td>\n",
       "    </tr>\n",
       "    <tr>\n",
       "      <th>1</th>\n",
       "      <td>2ª</td>\n",
       "      <td>RA 12_SAMAMBAIA</td>\n",
       "      <td>256.0</td>\n",
       "      <td>9,64%</td>\n",
       "    </tr>\n",
       "    <tr>\n",
       "      <th>2</th>\n",
       "      <td>3ª</td>\n",
       "      <td>RA 03_TAGUATINGA</td>\n",
       "      <td>224.0</td>\n",
       "      <td>8,43%</td>\n",
       "    </tr>\n",
       "    <tr>\n",
       "      <th>3</th>\n",
       "      <td>4ª</td>\n",
       "      <td>RA 06_PLANALTINA</td>\n",
       "      <td>205.0</td>\n",
       "      <td>7,72%</td>\n",
       "    </tr>\n",
       "    <tr>\n",
       "      <th>4</th>\n",
       "      <td>5ª</td>\n",
       "      <td>RA 01_BRASILIA</td>\n",
       "      <td>199.0</td>\n",
       "      <td>7,49%</td>\n",
       "    </tr>\n",
       "    <tr>\n",
       "      <th>5</th>\n",
       "      <td>6ª</td>\n",
       "      <td>RA 02_GAMA</td>\n",
       "      <td>163.0</td>\n",
       "      <td>6,14%</td>\n",
       "    </tr>\n",
       "    <tr>\n",
       "      <th>6</th>\n",
       "      <td>7ª</td>\n",
       "      <td>RA 15_RECANTO DAS EMAS</td>\n",
       "      <td>157.0</td>\n",
       "      <td>5,91%</td>\n",
       "    </tr>\n",
       "    <tr>\n",
       "      <th>7</th>\n",
       "      <td>8ª</td>\n",
       "      <td>RA 14_SAO SEBASTIAO</td>\n",
       "      <td>122.0</td>\n",
       "      <td>4,59%</td>\n",
       "    </tr>\n",
       "    <tr>\n",
       "      <th>8</th>\n",
       "      <td>9ª</td>\n",
       "      <td>RA 13_SANTA MARIA</td>\n",
       "      <td>94.0</td>\n",
       "      <td>3,54%</td>\n",
       "    </tr>\n",
       "    <tr>\n",
       "      <th>9</th>\n",
       "      <td>10ª</td>\n",
       "      <td>RA 10_GUARA</td>\n",
       "      <td>90.0</td>\n",
       "      <td>3,39%</td>\n",
       "    </tr>\n",
       "  </tbody>\n",
       "</table>\n",
       "</div>"
      ],
      "text/plain": [
       "  RANKING 2017   REGIÃO ADMINISTRATIVA   2017  \\\n",
       "0           1ª         RA 09_CEILANDIA  415.0   \n",
       "1           2ª         RA 12_SAMAMBAIA  256.0   \n",
       "2           3ª        RA 03_TAGUATINGA  224.0   \n",
       "3           4ª        RA 06_PLANALTINA  205.0   \n",
       "4           5ª          RA 01_BRASILIA  199.0   \n",
       "5           6ª              RA 02_GAMA  163.0   \n",
       "6           7ª  RA 15_RECANTO DAS EMAS  157.0   \n",
       "7           8ª     RA 14_SAO SEBASTIAO  122.0   \n",
       "8           9ª       RA 13_SANTA MARIA   94.0   \n",
       "9          10ª             RA 10_GUARA   90.0   \n",
       "\n",
       "  PERCENTUAL DE PARTICIPAÇÃO - ANO 2017  \n",
       "0                                15,63%  \n",
       "1                                 9,64%  \n",
       "2                                 8,43%  \n",
       "3                                 7,72%  \n",
       "4                                 7,49%  \n",
       "5                                 6,14%  \n",
       "6                                 5,91%  \n",
       "7                                 4,59%  \n",
       "8                                 3,54%  \n",
       "9                                 3,39%  "
      ]
     },
     "execution_count": 6,
     "metadata": {},
     "output_type": "execute_result"
    }
   ],
   "source": [
    "df_desaparecidos.head(10)"
   ]
  },
  {
   "cell_type": "markdown",
   "metadata": {},
   "source": [
    "Verificação das informações sobre as estatísticas gerais dos dados."
   ]
  },
  {
   "cell_type": "code",
   "execution_count": 7,
   "metadata": {},
   "outputs": [
    {
     "data": {
      "text/html": [
       "<div>\n",
       "<style scoped>\n",
       "    .dataframe tbody tr th:only-of-type {\n",
       "        vertical-align: middle;\n",
       "    }\n",
       "\n",
       "    .dataframe tbody tr th {\n",
       "        vertical-align: top;\n",
       "    }\n",
       "\n",
       "    .dataframe thead th {\n",
       "        text-align: right;\n",
       "    }\n",
       "</style>\n",
       "<table border=\"1\" class=\"dataframe\">\n",
       "  <thead>\n",
       "    <tr style=\"text-align: right;\">\n",
       "      <th></th>\n",
       "      <th>2017</th>\n",
       "    </tr>\n",
       "  </thead>\n",
       "  <tbody>\n",
       "    <tr>\n",
       "      <th>count</th>\n",
       "      <td>31.000000</td>\n",
       "    </tr>\n",
       "    <tr>\n",
       "      <th>mean</th>\n",
       "      <td>85.677419</td>\n",
       "    </tr>\n",
       "    <tr>\n",
       "      <th>std</th>\n",
       "      <td>93.740915</td>\n",
       "    </tr>\n",
       "    <tr>\n",
       "      <th>min</th>\n",
       "      <td>3.000000</td>\n",
       "    </tr>\n",
       "    <tr>\n",
       "      <th>25%</th>\n",
       "      <td>17.000000</td>\n",
       "    </tr>\n",
       "    <tr>\n",
       "      <th>50%</th>\n",
       "      <td>55.000000</td>\n",
       "    </tr>\n",
       "    <tr>\n",
       "      <th>75%</th>\n",
       "      <td>108.000000</td>\n",
       "    </tr>\n",
       "    <tr>\n",
       "      <th>max</th>\n",
       "      <td>415.000000</td>\n",
       "    </tr>\n",
       "  </tbody>\n",
       "</table>\n",
       "</div>"
      ],
      "text/plain": [
       "             2017\n",
       "count   31.000000\n",
       "mean    85.677419\n",
       "std     93.740915\n",
       "min      3.000000\n",
       "25%     17.000000\n",
       "50%     55.000000\n",
       "75%    108.000000\n",
       "max    415.000000"
      ]
     },
     "execution_count": 7,
     "metadata": {},
     "output_type": "execute_result"
    }
   ],
   "source": [
    "df_desaparecidos.iloc[0:31,2:4].describe()"
   ]
  },
  {
   "cell_type": "markdown",
   "metadata": {},
   "source": [
    "Com estas estatísticas pode gerar algumas perguntas. <br />\n",
    "- Qual cidade tem maior índice de desaparecidos? <br />\n",
    "- Qual cidade tem menor índice de desaparecidos? <br />"
   ]
  },
  {
   "cell_type": "code",
   "execution_count": 8,
   "metadata": {},
   "outputs": [
    {
     "data": {
      "text/html": [
       "<div>\n",
       "<style scoped>\n",
       "    .dataframe tbody tr th:only-of-type {\n",
       "        vertical-align: middle;\n",
       "    }\n",
       "\n",
       "    .dataframe tbody tr th {\n",
       "        vertical-align: top;\n",
       "    }\n",
       "\n",
       "    .dataframe thead th {\n",
       "        text-align: right;\n",
       "    }\n",
       "</style>\n",
       "<table border=\"1\" class=\"dataframe\">\n",
       "  <thead>\n",
       "    <tr style=\"text-align: right;\">\n",
       "      <th></th>\n",
       "      <th>RANKING 2017</th>\n",
       "      <th>REGIÃO ADMINISTRATIVA</th>\n",
       "      <th>2017</th>\n",
       "      <th>PERCENTUAL DE PARTICIPAÇÃO - ANO 2017</th>\n",
       "    </tr>\n",
       "  </thead>\n",
       "  <tbody>\n",
       "    <tr>\n",
       "      <th>0</th>\n",
       "      <td>1ª</td>\n",
       "      <td>RA 09_CEILANDIA</td>\n",
       "      <td>415.0</td>\n",
       "      <td>15,63%</td>\n",
       "    </tr>\n",
       "  </tbody>\n",
       "</table>\n",
       "</div>"
      ],
      "text/plain": [
       "  RANKING 2017 REGIÃO ADMINISTRATIVA   2017  \\\n",
       "0           1ª       RA 09_CEILANDIA  415.0   \n",
       "\n",
       "  PERCENTUAL DE PARTICIPAÇÃO - ANO 2017  \n",
       "0                                15,63%  "
      ]
     },
     "execution_count": 8,
     "metadata": {},
     "output_type": "execute_result"
    }
   ],
   "source": [
    "df_desaparecidos[df_desaparecidos['2017'] == 415]"
   ]
  },
  {
   "cell_type": "markdown",
   "metadata": {},
   "source": [
    "**CEILANDIA** com 415 pessoas é a cidade com maior índice de desaparecimento no ano de 2017."
   ]
  },
  {
   "cell_type": "code",
   "execution_count": 9,
   "metadata": {},
   "outputs": [
    {
     "data": {
      "text/html": [
       "<div>\n",
       "<style scoped>\n",
       "    .dataframe tbody tr th:only-of-type {\n",
       "        vertical-align: middle;\n",
       "    }\n",
       "\n",
       "    .dataframe tbody tr th {\n",
       "        vertical-align: top;\n",
       "    }\n",
       "\n",
       "    .dataframe thead th {\n",
       "        text-align: right;\n",
       "    }\n",
       "</style>\n",
       "<table border=\"1\" class=\"dataframe\">\n",
       "  <thead>\n",
       "    <tr style=\"text-align: right;\">\n",
       "      <th></th>\n",
       "      <th>RANKING 2017</th>\n",
       "      <th>REGIÃO ADMINISTRATIVA</th>\n",
       "      <th>2017</th>\n",
       "      <th>PERCENTUAL DE PARTICIPAÇÃO - ANO 2017</th>\n",
       "    </tr>\n",
       "  </thead>\n",
       "  <tbody>\n",
       "    <tr>\n",
       "      <th>30</th>\n",
       "      <td>31ª</td>\n",
       "      <td>RA 31_FERCAL</td>\n",
       "      <td>3.0</td>\n",
       "      <td>0,11%</td>\n",
       "    </tr>\n",
       "  </tbody>\n",
       "</table>\n",
       "</div>"
      ],
      "text/plain": [
       "   RANKING 2017 REGIÃO ADMINISTRATIVA  2017  \\\n",
       "30          31ª          RA 31_FERCAL   3.0   \n",
       "\n",
       "   PERCENTUAL DE PARTICIPAÇÃO - ANO 2017  \n",
       "30                                 0,11%  "
      ]
     },
     "execution_count": 9,
     "metadata": {},
     "output_type": "execute_result"
    }
   ],
   "source": [
    "df_desaparecidos[df_desaparecidos['2017'] == 3]"
   ]
  },
  {
   "cell_type": "markdown",
   "metadata": {},
   "source": [
    "**FERCAL** com 3 pessoas é a cidade com menor índice de desaparecimento no ano de 2017."
   ]
  },
  {
   "cell_type": "markdown",
   "metadata": {},
   "source": [
    "### Pessoas desaparecidos por faixa etária e sexo em 2017"
   ]
  },
  {
   "cell_type": "code",
   "execution_count": 10,
   "metadata": {},
   "outputs": [],
   "source": [
    "df = df_desaparecidos_sexo.iloc[0:7]\n",
    "df.columns = ['faixa_etaria','ocorrencias','porcentagem_total','masculino','porcentagem_masc','feminino','porcentagem_fem']"
   ]
  },
  {
   "cell_type": "code",
   "execution_count": 11,
   "metadata": {},
   "outputs": [],
   "source": [
    "del df['porcentagem_total']"
   ]
  },
  {
   "cell_type": "code",
   "execution_count": 12,
   "metadata": {},
   "outputs": [],
   "source": [
    "del df['porcentagem_masc']"
   ]
  },
  {
   "cell_type": "code",
   "execution_count": 13,
   "metadata": {},
   "outputs": [],
   "source": [
    "del df['porcentagem_fem']"
   ]
  },
  {
   "cell_type": "code",
   "execution_count": 14,
   "metadata": {},
   "outputs": [
    {
     "data": {
      "text/html": [
       "<div>\n",
       "<style scoped>\n",
       "    .dataframe tbody tr th:only-of-type {\n",
       "        vertical-align: middle;\n",
       "    }\n",
       "\n",
       "    .dataframe tbody tr th {\n",
       "        vertical-align: top;\n",
       "    }\n",
       "\n",
       "    .dataframe thead th {\n",
       "        text-align: right;\n",
       "    }\n",
       "</style>\n",
       "<table border=\"1\" class=\"dataframe\">\n",
       "  <thead>\n",
       "    <tr style=\"text-align: right;\">\n",
       "      <th></th>\n",
       "      <th>faixa_etaria</th>\n",
       "      <th>ocorrencias</th>\n",
       "      <th>masculino</th>\n",
       "      <th>feminino</th>\n",
       "    </tr>\n",
       "  </thead>\n",
       "  <tbody>\n",
       "    <tr>\n",
       "      <th>0</th>\n",
       "      <td>ATÉ 11 ANOS</td>\n",
       "      <td>137.0</td>\n",
       "      <td>82.0</td>\n",
       "      <td>55.0</td>\n",
       "    </tr>\n",
       "    <tr>\n",
       "      <th>1</th>\n",
       "      <td>DE 12 A 17 ANOS</td>\n",
       "      <td>1073.0</td>\n",
       "      <td>338.0</td>\n",
       "      <td>735.0</td>\n",
       "    </tr>\n",
       "    <tr>\n",
       "      <th>2</th>\n",
       "      <td>DE 18 A 30 ANOS</td>\n",
       "      <td>670.0</td>\n",
       "      <td>439.0</td>\n",
       "      <td>231.0</td>\n",
       "    </tr>\n",
       "    <tr>\n",
       "      <th>3</th>\n",
       "      <td>DE 31 A 50 ANOS</td>\n",
       "      <td>611.0</td>\n",
       "      <td>474.0</td>\n",
       "      <td>137.0</td>\n",
       "    </tr>\n",
       "    <tr>\n",
       "      <th>4</th>\n",
       "      <td>MAIS DE 50 ANOS</td>\n",
       "      <td>244.0</td>\n",
       "      <td>180.0</td>\n",
       "      <td>64.0</td>\n",
       "    </tr>\n",
       "    <tr>\n",
       "      <th>5</th>\n",
       "      <td>NÃO INFORMADO</td>\n",
       "      <td>32.0</td>\n",
       "      <td>25.0</td>\n",
       "      <td>7.0</td>\n",
       "    </tr>\n",
       "    <tr>\n",
       "      <th>6</th>\n",
       "      <td>TOTAL</td>\n",
       "      <td>2767.0</td>\n",
       "      <td>1538.0</td>\n",
       "      <td>1229.0</td>\n",
       "    </tr>\n",
       "  </tbody>\n",
       "</table>\n",
       "</div>"
      ],
      "text/plain": [
       "      faixa_etaria  ocorrencias  masculino  feminino\n",
       "0      ATÉ 11 ANOS        137.0       82.0      55.0\n",
       "1  DE 12 A 17 ANOS       1073.0      338.0     735.0\n",
       "2  DE 18 A 30 ANOS        670.0      439.0     231.0\n",
       "3  DE 31 A 50 ANOS        611.0      474.0     137.0\n",
       "4  MAIS DE 50 ANOS        244.0      180.0      64.0\n",
       "5    NÃO INFORMADO         32.0       25.0       7.0\n",
       "6            TOTAL       2767.0     1538.0    1229.0"
      ]
     },
     "execution_count": 14,
     "metadata": {},
     "output_type": "execute_result"
    }
   ],
   "source": [
    "df"
   ]
  },
  {
   "cell_type": "code",
   "execution_count": 15,
   "metadata": {},
   "outputs": [
    {
     "data": {
      "text/plain": [
       "Text(0.5,1,'Desaparecimento por faixa etária e sexo')"
      ]
     },
     "execution_count": 15,
     "metadata": {},
     "output_type": "execute_result"
    },
    {
     "data": {
      "image/png": "[encoded data removed]",
      "text/plain": [
       "<Figure size 432x288 with 1 Axes>"
      ]
     },
     "metadata": {
      "needs_background": "light"
     },
     "output_type": "display_data"
    }
   ],
   "source": [
    "df.groupby('faixa_etaria')['masculino','feminino'].mean().plot(kind='bar')\n",
    "plt.ylabel('Número de desaparecidos')\n",
    "plt.title('Desaparecimento por faixa etária e sexo')"
   ]
  },
  {
   "cell_type": "markdown",
   "metadata": {},
   "source": [
    "Conclui-se que em 2017 o desaparecimento de pesssoas do sexo masculino foi maior comparado com o sexo feminino mas, analisando a faixa etária de 12 a 17 anos, o número do sexo feminino foi maior."
   ]
  },
  {
   "cell_type": "markdown",
   "metadata": {},
   "source": [
    "### Pessoas localizadas"
   ]
  },
  {
   "cell_type": "code",
   "execution_count": 16,
   "metadata": {},
   "outputs": [],
   "source": [
    "df_localizados.iloc[0:7]\n",
    "df_localizados.columns = ['faixa_etaria','ainda_desaparecidos','porcentagem_desaparecidos','localizados','porcentagem_localizados']"
   ]
  },
  {
   "cell_type": "code",
   "execution_count": 17,
   "metadata": {},
   "outputs": [
    {
     "data": {
      "text/html": [
       "<div>\n",
       "<style scoped>\n",
       "    .dataframe tbody tr th:only-of-type {\n",
       "        vertical-align: middle;\n",
       "    }\n",
       "\n",
       "    .dataframe tbody tr th {\n",
       "        vertical-align: top;\n",
       "    }\n",
       "\n",
       "    .dataframe thead th {\n",
       "        text-align: right;\n",
       "    }\n",
       "</style>\n",
       "<table border=\"1\" class=\"dataframe\">\n",
       "  <thead>\n",
       "    <tr style=\"text-align: right;\">\n",
       "      <th></th>\n",
       "      <th>faixa_etaria</th>\n",
       "      <th>ainda_desaparecidos</th>\n",
       "      <th>porcentagem_desaparecidos</th>\n",
       "      <th>localizados</th>\n",
       "      <th>porcentagem_localizados</th>\n",
       "    </tr>\n",
       "  </thead>\n",
       "  <tbody>\n",
       "    <tr>\n",
       "      <th>0</th>\n",
       "      <td>ATÉ 11 ANOS</td>\n",
       "      <td>4.0</td>\n",
       "      <td>3%</td>\n",
       "      <td>133.0</td>\n",
       "      <td>97,08%</td>\n",
       "    </tr>\n",
       "    <tr>\n",
       "      <th>1</th>\n",
       "      <td>DE 12 A 17 ANOS</td>\n",
       "      <td>62.0</td>\n",
       "      <td>6%</td>\n",
       "      <td>1011.0</td>\n",
       "      <td>94,22%</td>\n",
       "    </tr>\n",
       "    <tr>\n",
       "      <th>2</th>\n",
       "      <td>DE 18 A 30 ANOS</td>\n",
       "      <td>62.0</td>\n",
       "      <td>9%</td>\n",
       "      <td>608.0</td>\n",
       "      <td>90,75%</td>\n",
       "    </tr>\n",
       "    <tr>\n",
       "      <th>3</th>\n",
       "      <td>DE 31 A 50 ANOS</td>\n",
       "      <td>68.0</td>\n",
       "      <td>11%</td>\n",
       "      <td>543.0</td>\n",
       "      <td>88,87%</td>\n",
       "    </tr>\n",
       "    <tr>\n",
       "      <th>4</th>\n",
       "      <td>MAIS DE 50 ANOS</td>\n",
       "      <td>31.0</td>\n",
       "      <td>13%</td>\n",
       "      <td>213.0</td>\n",
       "      <td>87,30%</td>\n",
       "    </tr>\n",
       "    <tr>\n",
       "      <th>5</th>\n",
       "      <td>NÃO INFORMADO</td>\n",
       "      <td>0.0</td>\n",
       "      <td>0%</td>\n",
       "      <td>80.0</td>\n",
       "      <td>100,00%</td>\n",
       "    </tr>\n",
       "    <tr>\n",
       "      <th>6</th>\n",
       "      <td>TOTAL</td>\n",
       "      <td>227.0</td>\n",
       "      <td>6,50%</td>\n",
       "      <td>2588.0</td>\n",
       "      <td>93,50%</td>\n",
       "    </tr>\n",
       "  </tbody>\n",
       "</table>\n",
       "</div>"
      ],
      "text/plain": [
       "      faixa_etaria  ainda_desaparecidos porcentagem_desaparecidos  \\\n",
       "0      ATÉ 11 ANOS                  4.0                        3%   \n",
       "1  DE 12 A 17 ANOS                 62.0                        6%   \n",
       "2  DE 18 A 30 ANOS                 62.0                        9%   \n",
       "3  DE 31 A 50 ANOS                 68.0                       11%   \n",
       "4  MAIS DE 50 ANOS                 31.0                       13%   \n",
       "5    NÃO INFORMADO                  0.0                        0%   \n",
       "6            TOTAL                227.0                     6,50%   \n",
       "\n",
       "   localizados porcentagem_localizados  \n",
       "0        133.0                  97,08%  \n",
       "1       1011.0                  94,22%  \n",
       "2        608.0                  90,75%  \n",
       "3        543.0                  88,87%  \n",
       "4        213.0                  87,30%  \n",
       "5         80.0                 100,00%  \n",
       "6       2588.0                  93,50%  "
      ]
     },
     "execution_count": 17,
     "metadata": {},
     "output_type": "execute_result"
    }
   ],
   "source": [
    "df_localizados[0:7]"
   ]
  },
  {
   "cell_type": "code",
   "execution_count": 86,
   "metadata": {
    "scrolled": true
   },
   "outputs": [
    {
     "data": {
      "text/plain": [
       "Text(0.5,1,'Pessoas localizadas')"
      ]
     },
     "execution_count": 86,
     "metadata": {},
     "output_type": "execute_result"
    },
    {
     "data": {
      "image/png": "[encoded data removed]",
      "text/plain": [
       "<Figure size 432x288 with 1 Axes>"
      ]
     },
     "metadata": {
      "needs_background": "light"
     },
     "output_type": "display_data"
    }
   ],
   "source": [
    "df_localizados.iloc[0:7].groupby('faixa_etaria')['localizados','ainda_desaparecidos'].mean().plot(kind='bar')\n",
    "plt.ylabel('Número de pessoas')\n",
    "plt.title('Pessoas localizadas')"
   ]
  },
  {
   "cell_type": "markdown",
   "metadata": {},
   "source": [
    "Analisando o gráfico, infelizmente nem todos as pessoas são localizados, mas 93,50% dos desaparecidos são localizados, uma porcentagem relativamente alto."
   ]
  }
 ],
 "metadata": {
  "kernelspec": {
   "display_name": "Python 3",
   "language": "python",
   "name": "python3"
  },
  "language_info": {
   "codemirror_mode": {
    "name": "ipython",
    "version": 3
   },
   "file_extension": ".py",
   "mimetype": "text/x-python",
   "name": "python",
   "nbconvert_exporter": "python",
   "pygments_lexer": "ipython3",
   "version": "3.7.0"
  }
 },
 "nbformat": 4,
 "nbformat_minor": 2
}
